{
  "nbformat": 4,
  "nbformat_minor": 0,
  "metadata": {
    "colab": {
      "provenance": [],
      "authorship_tag": "ABX9TyN0am9QMsGR5hNOaQkQN9h0",
      "include_colab_link": true
    },
    "kernelspec": {
      "name": "python3",
      "display_name": "Python 3"
    },
    "language_info": {
      "name": "python"
    }
  },
  "cells": [
    {
      "cell_type": "markdown",
      "metadata": {
        "id": "view-in-github",
        "colab_type": "text"
      },
      "source": [
        "<a href=\"https://colab.research.google.com/github/ShettyTanya/AI_Lab/blob/main/1BM22CS337_Week7_FOL_Unification.ipynb\" target=\"_parent\"><img src=\"https://colab.research.google.com/assets/colab-badge.svg\" alt=\"Open In Colab\"/></a>"
      ]
    },
    {
      "cell_type": "code",
      "execution_count": 15,
      "metadata": {
        "colab": {
          "base_uri": "https://localhost:8080/"
        },
        "id": "ZkUvJqE9C2qv",
        "outputId": "8985f50c-086e-4ef4-aa24-ca8841a1f4e3"
      },
      "outputs": [
        {
          "output_type": "stream",
          "name": "stdout",
          "text": [
            "Unification Result: [('x', 'A')]\n",
            "Unification Result: []\n",
            "Unification Result: FAILURE\n",
            "Unification Result: [('x', 'A'), ('y', 'B')]\n",
            "Unification Result: FAILURE\n"
          ]
        }
      ],
      "source": [
        "def unify(psi1, psi2):\n",
        "    # Step 1: If ψ1 or ψ2 is a variable or constant\n",
        "    if isinstance(psi1, str) and psi1.islower():  # Variable in ψ1\n",
        "        if psi1 == psi2:  # ψ1 and ψ2 are identical\n",
        "            return []\n",
        "        elif occurs_check(psi1, psi2):  # ψ1 occurs in ψ2\n",
        "            return \"FAILURE\"\n",
        "        else:\n",
        "            return [(psi1, psi2)]  # Substitution\n",
        "    elif isinstance(psi2, str) and psi2.islower():  # Variable in ψ2\n",
        "        if occurs_check(psi2, psi1):  # ψ2 occurs in ψ1\n",
        "            return \"FAILURE\"\n",
        "        else:\n",
        "            return [(psi2, psi1)]  # Substitution\n",
        "    elif psi1 == psi2:  # Identical constants\n",
        "        return []\n",
        "    elif isinstance(psi1, list) and isinstance(psi2, list):  # Compound terms\n",
        "        if psi1[0] != psi2[0]:  # Different predicate symbols\n",
        "            return \"FAILURE\"\n",
        "        if len(psi1) != len(psi2):  # Different number of arguments\n",
        "            return \"FAILURE\"\n",
        "        subst = []  # Substitution set\n",
        "        for i in range(len(psi1)):\n",
        "            s = unify(apply_substitution(subst, psi1[i]), apply_substitution(subst, psi2[i]))\n",
        "            if s == \"FAILURE\":\n",
        "                return \"FAILURE\"\n",
        "            subst.extend(s)\n",
        "        return subst\n",
        "    else:\n",
        "        return \"FAILURE\"\n",
        "\n",
        "\n",
        "def occurs_check(var, term):\n",
        "    \"\"\"\n",
        "    Checks if variable `var` occurs in term `term`.\n",
        "    \"\"\"\n",
        "    if var == term:\n",
        "        return True\n",
        "    elif isinstance(term, list):  # If term is a compound term\n",
        "        return any(occurs_check(var, subterm) for subterm in term)\n",
        "    return False\n",
        "\n",
        "\n",
        "def apply_substitution(subst, term):\n",
        "    \"\"\"\n",
        "    Applies a set of substitutions to a term.\n",
        "    \"\"\"\n",
        "    if isinstance(term, str):  # If term is a variable\n",
        "        for var, replacement in subst:\n",
        "            if term == var:\n",
        "                return apply_substitution(subst, replacement)\n",
        "        return term\n",
        "    elif isinstance(term, list):  # If term is a compound term\n",
        "        return [apply_substitution(subst, subterm) for subterm in term]\n",
        "    return term\n",
        "\n",
        "\n",
        "# Example usage:\n",
        "psi1 = [\"P\", \"x\", \"y\"]\n",
        "psi2 = [\"P\", \"A\", \"y\"]\n",
        "\n",
        "result = unify(psi1, psi2)\n",
        "print(\"Unification Result:\", result)\n",
        "\n",
        "psi1 = [\"P\", \"x\"]\n",
        "psi2 = [\"P\", \"x\"]\n",
        "\n",
        "result = unify(psi1, psi2)\n",
        "print(\"Unification Result:\", result)\n",
        "\n",
        "psi1 = [\"P\", \"x\", \"y\"]\n",
        "psi2 = [\"B\", \"x\", \"y\"]\n",
        "\n",
        "result = unify(psi1, psi2)\n",
        "print(\"Unification Result:\", result)\n",
        "\n",
        "psi1 = [\"P\", \"x\", \"y\"]\n",
        "psi2 = [\"P\", \"A\", \"B\"]\n",
        "\n",
        "result = unify(psi1, psi2)\n",
        "print(\"Unification Result:\", result)\n",
        "\n",
        "psi1 = [\"P\", \"x\", \"y\"]\n",
        "psi2 = [\"P\", \"a\"]\n",
        "\n",
        "result = unify(psi1, psi2)\n",
        "print(\"Unification Result:\", result)"
      ]
    }
  ]
}