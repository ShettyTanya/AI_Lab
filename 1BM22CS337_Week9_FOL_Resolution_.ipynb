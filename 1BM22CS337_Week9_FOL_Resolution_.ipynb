{
  "nbformat": 4,
  "nbformat_minor": 0,
  "metadata": {
    "colab": {
      "provenance": [],
      "authorship_tag": "ABX9TyMnvLqvmeZ0kRw8KD2+dqob",
      "include_colab_link": true
    },
    "kernelspec": {
      "name": "python3",
      "display_name": "Python 3"
    },
    "language_info": {
      "name": "python"
    }
  },
  "cells": [
    {
      "cell_type": "markdown",
      "metadata": {
        "id": "view-in-github",
        "colab_type": "text"
      },
      "source": [
        "<a href=\"https://colab.research.google.com/github/ShettyTanya/AI_Lab/blob/main/1BM22CS337_Week9_FOL_Resolution_.ipynb\" target=\"_parent\"><img src=\"https://colab.research.google.com/assets/colab-badge.svg\" alt=\"Open In Colab\"/></a>"
      ]
    },
    {
      "cell_type": "code",
      "execution_count": 14,
      "metadata": {
        "colab": {
          "base_uri": "https://localhost:8080/"
        },
        "id": "KWfoYGwsI5Wc",
        "outputId": "b44143c5-e3ba-4a74-c156-5c30e295be61"
      },
      "outputs": [
        {
          "output_type": "stream",
          "name": "stdout",
          "text": [
            "\n",
            "--- Step-by-Step Resolution Process ---\n",
            "Negated Query Added to KB: ('not', ('likes', 'John', 'Peanuts'))\n",
            "\n",
            "Step 1: Resolving Clauses\n",
            "  Resolving clauses: frozenset({('likes', 'John', 'x'), ('not', 'food(x)')}) and frozenset({('eats', 'Anil', 'Peanuts')})\n",
            "  Resolving clauses: frozenset({('likes', 'John', 'x'), ('not', 'food(x)')}) and frozenset({('not', ('likes', 'John', 'Peanuts'))})\n",
            "  Resolving clauses: frozenset({('likes', 'John', 'x'), ('not', 'food(x)')}) and frozenset({('food', 'vegetables')})\n",
            "  Resolving clauses: frozenset({('likes', 'John', 'x'), ('not', 'food(x)')}) and frozenset({('not', 'killed(k)'), ('not', 'alive(k)')})\n",
            "  Resolving clauses: frozenset({('likes', 'John', 'x'), ('not', 'food(x)')}) and frozenset({('likes', 'John', 'Peanuts')})\n",
            "  Resolving clauses: frozenset({('likes', 'John', 'x'), ('not', 'food(x)')}) and frozenset({('killed', 'g'), ('alive', 'g')})\n",
            "  Resolving clauses: frozenset({('likes', 'John', 'x'), ('not', 'food(x)')}) and frozenset({('not', 'eats(Anil, w)'), ('eats', 'Harry', 'w')})\n",
            "  Resolving clauses: frozenset({('likes', 'John', 'x'), ('not', 'food(x)')}) and frozenset({('food', 'Apple')})\n",
            "  Resolving clauses: frozenset({('likes', 'John', 'x'), ('not', 'food(x)')}) and frozenset({('killed', 'y'), ('food', 'z'), ('not', 'eats(y, z)')})\n",
            "  Resolving clauses: frozenset({('likes', 'John', 'x'), ('not', 'food(x)')}) and frozenset({('alive', 'Anil')})\n",
            "  Resolving clauses: frozenset({('eats', 'Anil', 'Peanuts')}) and frozenset({('likes', 'John', 'x'), ('not', 'food(x)')})\n",
            "  Resolving clauses: frozenset({('eats', 'Anil', 'Peanuts')}) and frozenset({('not', ('likes', 'John', 'Peanuts'))})\n",
            "  Resolving clauses: frozenset({('eats', 'Anil', 'Peanuts')}) and frozenset({('food', 'vegetables')})\n",
            "  Resolving clauses: frozenset({('eats', 'Anil', 'Peanuts')}) and frozenset({('not', 'killed(k)'), ('not', 'alive(k)')})\n",
            "  Resolving clauses: frozenset({('eats', 'Anil', 'Peanuts')}) and frozenset({('likes', 'John', 'Peanuts')})\n",
            "  Resolving clauses: frozenset({('eats', 'Anil', 'Peanuts')}) and frozenset({('killed', 'g'), ('alive', 'g')})\n",
            "  Resolving clauses: frozenset({('eats', 'Anil', 'Peanuts')}) and frozenset({('not', 'eats(Anil, w)'), ('eats', 'Harry', 'w')})\n",
            "  Resolving clauses: frozenset({('eats', 'Anil', 'Peanuts')}) and frozenset({('food', 'Apple')})\n",
            "  Resolving clauses: frozenset({('eats', 'Anil', 'Peanuts')}) and frozenset({('killed', 'y'), ('food', 'z'), ('not', 'eats(y, z)')})\n",
            "  Resolving clauses: frozenset({('eats', 'Anil', 'Peanuts')}) and frozenset({('alive', 'Anil')})\n",
            "  Resolving clauses: frozenset({('not', ('likes', 'John', 'Peanuts'))}) and frozenset({('likes', 'John', 'x'), ('not', 'food(x)')})\n",
            "  Resolving clauses: frozenset({('not', ('likes', 'John', 'Peanuts'))}) and frozenset({('eats', 'Anil', 'Peanuts')})\n",
            "  Resolving clauses: frozenset({('not', ('likes', 'John', 'Peanuts'))}) and frozenset({('food', 'vegetables')})\n",
            "  Resolving clauses: frozenset({('not', ('likes', 'John', 'Peanuts'))}) and frozenset({('not', 'killed(k)'), ('not', 'alive(k)')})\n",
            "  Resolving clauses: frozenset({('not', ('likes', 'John', 'Peanuts'))}) and frozenset({('likes', 'John', 'Peanuts')})\n",
            "    Resolving literal: ('not', ('likes', 'John', 'Peanuts')) with ('likes', 'John', 'Peanuts')\n",
            "    Resulting Resolvent: frozenset()\n",
            "\n",
            "Empty clause derived! The query is provable.\n",
            "\n",
            "Query is provable.\n"
          ]
        }
      ],
      "source": [
        "\n",
        "# Step 1: Helper function to negate a literal\n",
        "def negate(literal):\n",
        "    \"\"\"Return the negation of a literal.\"\"\"\n",
        "    if isinstance(literal, tuple) and literal[0] == \"not\":\n",
        "        return literal[1]\n",
        "    else:\n",
        "        return (\"not\", literal)\n",
        "\n",
        "# Function to resolve two clauses\n",
        "def resolve(clause1, clause2):\n",
        "    \"\"\"Return the resolvent of two clauses.\"\"\"\n",
        "    resolvents = set()\n",
        "    for literal1 in clause1:\n",
        "        for literal2 in clause2:\n",
        "            if literal1 == negate(literal2):\n",
        "                resolvent = (clause1 - {literal1}) | (clause2 - {literal2})\n",
        "                print(f\"    Resolving literal: {literal1} with {literal2}\")\n",
        "                print(f\"    Resulting Resolvent: {resolvent}\")\n",
        "                resolvents.add(frozenset(resolvent))\n",
        "    return resolvents\n",
        "\n",
        "# Function to perform resolution on the KB and query with detailed output\n",
        "def resolution_algorithm(KB, query):\n",
        "    \"\"\"Perform the resolution algorithm to check if the query can be proven.\"\"\"\n",
        "    print(\"\\n--- Step-by-Step Resolution Process ---\")\n",
        "    # Add the negation of the query to the knowledge base\n",
        "    negated_query = negate(query)\n",
        "    KB.append(frozenset([negated_query]))\n",
        "    print(f\"Negated Query Added to KB: {negated_query}\")\n",
        "\n",
        "    # Initialize the set of clauses to process\n",
        "    clauses = set(KB)\n",
        "\n",
        "    step = 1\n",
        "    while True:\n",
        "        new_clauses = set()\n",
        "        print(f\"\\nStep {step}: Resolving Clauses\")\n",
        "        for c1 in clauses:\n",
        "            for c2 in clauses:\n",
        "                if c1 != c2:\n",
        "                    print(f\"  Resolving clauses: {c1} and {c2}\")\n",
        "                    resolvent = resolve(c1, c2)\n",
        "                    for res in resolvent:\n",
        "                        if frozenset([]) in resolvent:\n",
        "                            print(\"\\nEmpty clause derived! The query is provable.\")\n",
        "                            return True  # Empty clause found, contradiction, query is provable\n",
        "                        new_clauses.add(res)\n",
        "\n",
        "        if new_clauses.issubset(clauses):\n",
        "            print(\"\\nNo new clauses can be derived. The query is not provable.\")\n",
        "            return False  # No new clauses, query is not provable\n",
        "\n",
        "        clauses.update(new_clauses)\n",
        "        step += 1\n",
        "\n",
        "# Knowledge Base (KB) from the image facts\n",
        "KB = [\n",
        "    frozenset([(\"not\", \"food(x)\"), (\"likes\", \"John\", \"x\")]),  # 1\n",
        "    frozenset([(\"food\", \"Apple\")]),                           # 2\n",
        "    frozenset([(\"food\", \"vegetables\")]),                      # 3\n",
        "    frozenset([(\"not\", \"eats(y, z)\"), (\"killed\", \"y\"), (\"food\", \"z\")]),  # 4\n",
        "    frozenset([(\"eats\", \"Anil\", \"Peanuts\")]),                 # 5\n",
        "    frozenset([(\"alive\", \"Anil\")]),                           # 6\n",
        "    frozenset([(\"not\", \"eats(Anil, w)\"), (\"eats\", \"Harry\", \"w\")]),  # 7\n",
        "    frozenset([(\"killed\", \"g\"), (\"alive\", \"g\")]),             # 8\n",
        "    frozenset([(\"not\", \"alive(k)\"), (\"not\", \"killed(k)\")]),   # 9\n",
        "    frozenset([(\"likes\", \"John\", \"Peanuts\")])                 # 10\n",
        "]\n",
        "\n",
        "# Query to prove\n",
        "query = (\"likes\", \"John\", \"Peanuts\")\n",
        "\n",
        "# Perform resolution to check if the query is provable\n",
        "result = resolution_algorithm(KB, query)\n",
        "if result:\n",
        "    print(\"\\nQuery is provable.\")\n",
        "else:\n",
        "    print(\"\\nQuery is not provable.\")\n",
        "\n"
      ]
    }
  ]
}